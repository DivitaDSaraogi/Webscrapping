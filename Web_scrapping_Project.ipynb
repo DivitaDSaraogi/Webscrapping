{
 "cells": [
  {
   "cell_type": "code",
   "execution_count": 54,
   "id": "c057e295-c042-44ec-995b-c550e8361a90",
   "metadata": {},
   "outputs": [],
   "source": [
    "import requests\n",
    "from bs4 import BeautifulSoup\n",
    "import pandas as pd"
   ]
  },
  {
   "cell_type": "code",
   "execution_count": 55,
   "id": "800d2f2f-32a6-4f3f-8aac-86e6fa77d34f",
   "metadata": {},
   "outputs": [],
   "source": [
    "# Step 1: Get the HTML content\n",
    "url = \"https://en.wikipedia.org/wiki/List_of_capitals_in_the_United_States\"\n",
    "response = requests.get(url)\n",
    "response.raise_for_status()  # Raises an error for bad responses\n",
    "html_content = response.text\n",
    "#html_content"
   ]
  },
  {
   "cell_type": "code",
   "execution_count": 56,
   "id": "36e971c0-2fe5-43e2-9570-2553415ab7c7",
   "metadata": {},
   "outputs": [],
   "source": [
    "# Step 2: Parse the HTML with BeautifulSoup\n",
    "soup = BeautifulSoup(html_content, \"lxml\")\n",
    "#soup"
   ]
  },
  {
   "cell_type": "code",
   "execution_count": 57,
   "id": "38cda298-6025-45cc-9fdb-3fecb53e3cfb",
   "metadata": {},
   "outputs": [],
   "source": [
    "# Step 3: Find the correct table\n",
    "table = soup.find(\"table\", class_=\"wikitable plainrowheaders sortable\")\n",
    "#table"
   ]
  },
  {
   "cell_type": "code",
   "execution_count": 58,
   "id": "155f8f74-063e-4542-a24b-caef09be5cb7",
   "metadata": {},
   "outputs": [],
   "source": [
    "# Step 4: Extract data from the table\n",
    "states = []\n",
    "capitals = []\n",
    "\n",
    "for row in table.find_all(\"tr\")[1:]:  # Skip header row\n",
    "    cells = row.find_all(\"td\")\n",
    "    header = row.find(\"th\")  # Contains the capital city name\n",
    "\n",
    "    if len(cells) >= 1 and header:\n",
    "        capital = header.text.strip()\n",
    "        state = cells[0].text.strip()\n",
    "        capitals.append(capital)\n",
    "        states.append(state)\n"
   ]
  },
  {
   "cell_type": "code",
   "execution_count": 59,
   "id": "c60b3410-8fe4-4c49-ac7d-6d556fc1f3a1",
   "metadata": {},
   "outputs": [],
   "source": [
    "df = pd.DataFrame({\n",
    "    \"State\": states,\n",
    "    \"Capital City\": capitals\n",
    "})"
   ]
  },
  {
   "cell_type": "code",
   "execution_count": 60,
   "id": "d41bc1a3-7be3-4d58-8e3e-6af65f82d5cf",
   "metadata": {},
   "outputs": [
    {
     "name": "stdout",
     "output_type": "stream",
     "text": [
      "             State    Capital City\n",
      "0          Alabama      Montgomery\n",
      "1           Alaska          Juneau\n",
      "2          Arizona         Phoenix\n",
      "3         Arkansas     Little Rock\n",
      "4       California      Sacramento\n",
      "5         Colorado          Denver\n",
      "6      Connecticut        Hartford\n",
      "7         Delaware           Dover\n",
      "8          Florida     Tallahassee\n",
      "9          Georgia         Atlanta\n",
      "10          Hawaii        Honolulu\n",
      "11           Idaho           Boise\n",
      "12        Illinois     Springfield\n",
      "13         Indiana    Indianapolis\n",
      "14            Iowa      Des Moines\n",
      "15          Kansas          Topeka\n",
      "16        Kentucky       Frankfort\n",
      "17       Louisiana     Baton Rouge\n",
      "18           Maine         Augusta\n",
      "19        Maryland       Annapolis\n",
      "20   Massachusetts          Boston\n",
      "21        Michigan         Lansing\n",
      "22       Minnesota      Saint Paul\n",
      "23     Mississippi         Jackson\n",
      "24        Missouri  Jefferson City\n",
      "25         Montana          Helena\n",
      "26        Nebraska         Lincoln\n",
      "27          Nevada     Carson City\n",
      "28   New Hampshire         Concord\n",
      "29      New Jersey         Trenton\n",
      "30      New Mexico        Santa Fe\n",
      "31        New York          Albany\n",
      "32  North Carolina         Raleigh\n",
      "33    North Dakota        Bismarck\n",
      "34            Ohio        Columbus\n",
      "35        Oklahoma   Oklahoma City\n",
      "36          Oregon           Salem\n",
      "37    Pennsylvania      Harrisburg\n",
      "38    Rhode Island      Providence\n",
      "39  South Carolina        Columbia\n",
      "40    South Dakota          Pierre\n",
      "41       Tennessee       Nashville\n",
      "42           Texas          Austin\n",
      "43            Utah  Salt Lake City\n",
      "44         Vermont      Montpelier\n",
      "45        Virginia        Richmond\n",
      "46      Washington         Olympia\n",
      "47   West Virginia      Charleston\n",
      "48       Wisconsin         Madison\n",
      "49         Wyoming        Cheyenne\n"
     ]
    }
   ],
   "source": [
    "print(df)"
   ]
  },
  {
   "cell_type": "code",
   "execution_count": null,
   "id": "cf3d4024-1237-4768-962b-fe2c6bc71f18",
   "metadata": {},
   "outputs": [],
   "source": []
  }
 ],
 "metadata": {
  "kernelspec": {
   "display_name": "Python 3 (ipykernel)",
   "language": "python",
   "name": "python3"
  },
  "language_info": {
   "codemirror_mode": {
    "name": "ipython",
    "version": 3
   },
   "file_extension": ".py",
   "mimetype": "text/x-python",
   "name": "python",
   "nbconvert_exporter": "python",
   "pygments_lexer": "ipython3",
   "version": "3.12.7"
  }
 },
 "nbformat": 4,
 "nbformat_minor": 5
}
